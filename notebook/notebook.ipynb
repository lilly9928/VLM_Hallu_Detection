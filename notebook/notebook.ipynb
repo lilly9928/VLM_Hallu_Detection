{
 "cells": [
  {
   "cell_type": "code",
   "execution_count": 1,
   "id": "d17452c1",
   "metadata": {},
   "outputs": [
    {
     "name": "stdout",
     "output_type": "stream",
     "text": [
      "[2025-09-03 11:17:25,450] [INFO] [real_accelerator.py:239:get_accelerator] Setting ds_accelerator to cuda (auto detect)\n"
     ]
    },
    {
     "name": "stderr",
     "output_type": "stream",
     "text": [
      "/opt/anaconda3/envs/py3_9/compiler_compat/ld: warning: libstdc++.so.6, needed by /usr/local/cuda/lib64/libcufile.so, not found (try using -rpath or -rpath-link)\n",
      "/opt/anaconda3/envs/py3_9/compiler_compat/ld: warning: libm.so.6, needed by /usr/local/cuda/lib64/libcufile.so, not found (try using -rpath or -rpath-link)\n",
      "/opt/anaconda3/envs/py3_9/compiler_compat/ld: /usr/local/cuda/lib64/libcufile.so: undefined reference to `std::runtime_error::~runtime_error()@GLIBCXX_3.4'\n",
      "/opt/anaconda3/envs/py3_9/compiler_compat/ld: /usr/local/cuda/lib64/libcufile.so: undefined reference to `__gxx_personality_v0@CXXABI_1.3'\n",
      "/opt/anaconda3/envs/py3_9/compiler_compat/ld: /usr/local/cuda/lib64/libcufile.so: undefined reference to `std::ostream::tellp()@GLIBCXX_3.4'\n",
      "/opt/anaconda3/envs/py3_9/compiler_compat/ld: /usr/local/cuda/lib64/libcufile.so: undefined reference to `std::string::substr(unsigned long, unsigned long) const@GLIBCXX_3.4'\n",
      "/opt/anaconda3/envs/py3_9/compiler_compat/ld: /usr/local/cuda/lib64/libcufile.so: undefined reference to `std::string::_M_replace_aux(unsigned long, unsigned long, unsigned long, char)@GLIBCXX_3.4'\n",
      "/opt/anaconda3/envs/py3_9/compiler_compat/ld: /usr/local/cuda/lib64/libcufile.so: undefined reference to `dlopen'\n",
      "/opt/anaconda3/envs/py3_9/compiler_compat/ld: /usr/local/cuda/lib64/libcufile.so: undefined reference to `typeinfo for bool@CXXABI_1.3'\n",
      "/opt/anaconda3/envs/py3_9/compiler_compat/ld: /usr/local/cuda/lib64/libcufile.so: undefined reference to `std::__throw_logic_error(char const*)@GLIBCXX_3.4'\n",
      "/opt/anaconda3/envs/py3_9/compiler_compat/ld: /usr/local/cuda/lib64/libcufile.so: undefined reference to `VTT for std::basic_ostringstream<char, std::char_traits<char>, std::allocator<char> >@GLIBCXX_3.4'\n",
      "/opt/anaconda3/envs/py3_9/compiler_compat/ld: /usr/local/cuda/lib64/libcufile.so: undefined reference to `std::locale::~locale()@GLIBCXX_3.4'\n",
      "/opt/anaconda3/envs/py3_9/compiler_compat/ld: /usr/local/cuda/lib64/libcufile.so: undefined reference to `__cxa_end_catch@CXXABI_1.3'\n",
      "/opt/anaconda3/envs/py3_9/compiler_compat/ld: /usr/local/cuda/lib64/libcufile.so: undefined reference to `VTT for std::basic_ofstream<char, std::char_traits<char> >@GLIBCXX_3.4'\n",
      "/opt/anaconda3/envs/py3_9/compiler_compat/ld: /usr/local/cuda/lib64/libcufile.so: undefined reference to `vtable for __cxxabiv1::__si_class_type_info@CXXABI_1.3'\n",
      "/opt/anaconda3/envs/py3_9/compiler_compat/ld: /usr/local/cuda/lib64/libcufile.so: undefined reference to `VTT for std::basic_stringstream<char, std::char_traits<char>, std::allocator<char> >@GLIBCXX_3.4'\n",
      "/opt/anaconda3/envs/py3_9/compiler_compat/ld: /usr/local/cuda/lib64/libcufile.so: undefined reference to `std::basic_stringbuf<char, std::char_traits<char>, std::allocator<char> >::_M_stringbuf_init(std::_Ios_Openmode)@GLIBCXX_3.4'\n",
      "/opt/anaconda3/envs/py3_9/compiler_compat/ld: /usr/local/cuda/lib64/libcufile.so: undefined reference to `operator new[](unsigned long)@GLIBCXX_3.4'\n",
      "/opt/anaconda3/envs/py3_9/compiler_compat/ld: /usr/local/cuda/lib64/libcufile.so: undefined reference to `std::string::_M_leak_hard()@GLIBCXX_3.4'\n",
      "/opt/anaconda3/envs/py3_9/compiler_compat/ld: /usr/local/cuda/lib64/libcufile.so: undefined reference to `vtable for std::basic_ifstream<char, std::char_traits<char> >@GLIBCXX_3.4'\n",
      "/opt/anaconda3/envs/py3_9/compiler_compat/ld: /usr/local/cuda/lib64/libcufile.so: undefined reference to `std::string::append(char const*, unsigned long)@GLIBCXX_3.4'\n",
      "/opt/anaconda3/envs/py3_9/compiler_compat/ld: /usr/local/cuda/lib64/libcufile.so: undefined reference to `std::basic_string<char, std::char_traits<char>, std::allocator<char> >::basic_string(std::string const&)@GLIBCXX_3.4'\n",
      "/opt/anaconda3/envs/py3_9/compiler_compat/ld: /usr/local/cuda/lib64/libcufile.so: undefined reference to `typeinfo for unsigned short@CXXABI_1.3'\n",
      "/opt/anaconda3/envs/py3_9/compiler_compat/ld: /usr/local/cuda/lib64/libcufile.so: undefined reference to `std::string::resize(unsigned long, char)@GLIBCXX_3.4'\n",
      "/opt/anaconda3/envs/py3_9/compiler_compat/ld: /usr/local/cuda/lib64/libcufile.so: undefined reference to `std::basic_stringbuf<char, std::char_traits<char>, std::allocator<char> >::str(std::string const&)@GLIBCXX_3.4'\n",
      "/opt/anaconda3/envs/py3_9/compiler_compat/ld: /usr/local/cuda/lib64/libcufile.so: undefined reference to `typeinfo for char const*@CXXABI_1.3'\n",
      "/opt/anaconda3/envs/py3_9/compiler_compat/ld: /usr/local/cuda/lib64/libcufile.so: undefined reference to `std::ctype<char>::_M_widen_init() const@GLIBCXX_3.4.11'\n",
      "/opt/anaconda3/envs/py3_9/compiler_compat/ld: /usr/local/cuda/lib64/libcufile.so: undefined reference to `std::__throw_invalid_argument(char const*)@GLIBCXX_3.4'\n",
      "/opt/anaconda3/envs/py3_9/compiler_compat/ld: /usr/local/cuda/lib64/libcufile.so: undefined reference to `std::_Rb_tree_decrement(std::_Rb_tree_node_base const*)@GLIBCXX_3.4'\n",
      "/opt/anaconda3/envs/py3_9/compiler_compat/ld: /usr/local/cuda/lib64/libcufile.so: undefined reference to `__cxa_free_exception@CXXABI_1.3'\n",
      "/opt/anaconda3/envs/py3_9/compiler_compat/ld: /usr/local/cuda/lib64/libcufile.so: undefined reference to `std::ios_base::Init::~Init()@GLIBCXX_3.4'\n",
      "/opt/anaconda3/envs/py3_9/compiler_compat/ld: /usr/local/cuda/lib64/libcufile.so: undefined reference to `std::basic_string<char, std::char_traits<char>, std::allocator<char> >::~basic_string()@GLIBCXX_3.4'\n",
      "/opt/anaconda3/envs/py3_9/compiler_compat/ld: /usr/local/cuda/lib64/libcufile.so: undefined reference to `__cxa_pure_virtual@CXXABI_1.3'\n",
      "/opt/anaconda3/envs/py3_9/compiler_compat/ld: /usr/local/cuda/lib64/libcufile.so: undefined reference to `std::ostream::flush()@GLIBCXX_3.4'\n",
      "/opt/anaconda3/envs/py3_9/compiler_compat/ld: /usr/local/cuda/lib64/libcufile.so: undefined reference to `vtable for __cxxabiv1::__class_type_info@CXXABI_1.3'\n",
      "/opt/anaconda3/envs/py3_9/compiler_compat/ld: /usr/local/cuda/lib64/libcufile.so: undefined reference to `__cxa_rethrow@CXXABI_1.3'\n",
      "/opt/anaconda3/envs/py3_9/compiler_compat/ld: /usr/local/cuda/lib64/libcufile.so: undefined reference to `std::string::_Rep::_M_dispose(std::allocator<char> const&)@GLIBCXX_3.4'\n",
      "/opt/anaconda3/envs/py3_9/compiler_compat/ld: /usr/local/cuda/lib64/libcufile.so: undefined reference to `vtable for std::basic_stringbuf<char, std::char_traits<char>, std::allocator<char> >@GLIBCXX_3.4'\n",
      "/opt/anaconda3/envs/py3_9/compiler_compat/ld: /usr/local/cuda/lib64/libcufile.so: undefined reference to `std::basic_fstream<char, std::char_traits<char> >::~basic_fstream()@GLIBCXX_3.4'\n",
      "/opt/anaconda3/envs/py3_9/compiler_compat/ld: /usr/local/cuda/lib64/libcufile.so: undefined reference to `std::string::compare(char const*) const@GLIBCXX_3.4'\n",
      "/opt/anaconda3/envs/py3_9/compiler_compat/ld: /usr/local/cuda/lib64/libcufile.so: undefined reference to `std::locale::locale()@GLIBCXX_3.4'\n",
      "/opt/anaconda3/envs/py3_9/compiler_compat/ld: /usr/local/cuda/lib64/libcufile.so: undefined reference to `std::chrono::_V2::system_clock::now()@GLIBCXX_3.4.19'\n",
      "/opt/anaconda3/envs/py3_9/compiler_compat/ld: /usr/local/cuda/lib64/libcufile.so: undefined reference to `VTT for std::basic_ifstream<char, std::char_traits<char> >@GLIBCXX_3.4'\n",
      "/opt/anaconda3/envs/py3_9/compiler_compat/ld: /usr/local/cuda/lib64/libcufile.so: undefined reference to `std::_Hash_bytes(void const*, unsigned long, unsigned long)@CXXABI_1.3.5'\n",
      "/opt/anaconda3/envs/py3_9/compiler_compat/ld: /usr/local/cuda/lib64/libcufile.so: undefined reference to `std::basic_ostream<char, std::char_traits<char> >& std::endl<char, std::char_traits<char> >(std::basic_ostream<char, std::char_traits<char> >&)@GLIBCXX_3.4'\n",
      "/opt/anaconda3/envs/py3_9/compiler_compat/ld: /usr/local/cuda/lib64/libcufile.so: undefined reference to `std::ostream& std::ostream::_M_insert<long long>(long long)@GLIBCXX_3.4.9'\n",
      "/opt/anaconda3/envs/py3_9/compiler_compat/ld: /usr/local/cuda/lib64/libcufile.so: undefined reference to `typeinfo for char*@CXXABI_1.3'\n",
      "/opt/anaconda3/envs/py3_9/compiler_compat/ld: /usr/local/cuda/lib64/libcufile.so: undefined reference to `std::__detail::_Prime_rehash_policy::_M_need_rehash(unsigned long, unsigned long, unsigned long) const@GLIBCXX_3.4.18'\n",
      "/opt/anaconda3/envs/py3_9/compiler_compat/ld: /usr/local/cuda/lib64/libcufile.so: undefined reference to `dlclose'\n",
      "/opt/anaconda3/envs/py3_9/compiler_compat/ld: /usr/local/cuda/lib64/libcufile.so: undefined reference to `std::ostream& std::ostream::_M_insert<unsigned long>(unsigned long)@GLIBCXX_3.4.9'\n",
      "/opt/anaconda3/envs/py3_9/compiler_compat/ld: /usr/local/cuda/lib64/libcufile.so: undefined reference to `std::_Rb_tree_increment(std::_Rb_tree_node_base const*)@GLIBCXX_3.4'\n",
      "/opt/anaconda3/envs/py3_9/compiler_compat/ld: /usr/local/cuda/lib64/libcufile.so: undefined reference to `std::ios_base::~ios_base()@GLIBCXX_3.4'\n",
      "/opt/anaconda3/envs/py3_9/compiler_compat/ld: /usr/local/cuda/lib64/libcufile.so: undefined reference to `std::__basic_file<char>::~__basic_file()@GLIBCXX_3.4'\n",
      "/opt/anaconda3/envs/py3_9/compiler_compat/ld: /usr/local/cuda/lib64/libcufile.so: undefined reference to `__cxa_guard_acquire@CXXABI_1.3'\n",
      "/opt/anaconda3/envs/py3_9/compiler_compat/ld: /usr/local/cuda/lib64/libcufile.so: undefined reference to `std::ostream& std::ostream::_M_insert<bool>(bool)@GLIBCXX_3.4.9'\n",
      "/opt/anaconda3/envs/py3_9/compiler_compat/ld: /usr/local/cuda/lib64/libcufile.so: undefined reference to `VTT for std::basic_fstream<char, std::char_traits<char> >@GLIBCXX_3.4'\n",
      "/opt/anaconda3/envs/py3_9/compiler_compat/ld: /usr/local/cuda/lib64/libcufile.so: undefined reference to `vtable for std::basic_ios<char, std::char_traits<char> >@GLIBCXX_3.4'\n",
      "/opt/anaconda3/envs/py3_9/compiler_compat/ld: /usr/local/cuda/lib64/libcufile.so: undefined reference to `vtable for std::basic_filebuf<char, std::char_traits<char> >@GLIBCXX_3.4'\n",
      "/opt/anaconda3/envs/py3_9/compiler_compat/ld: /usr/local/cuda/lib64/libcufile.so: undefined reference to `operator delete[](void*)@GLIBCXX_3.4'\n",
      "/opt/anaconda3/envs/py3_9/compiler_compat/ld: /usr/local/cuda/lib64/libcufile.so: undefined reference to `vtable for std::basic_stringstream<char, std::char_traits<char>, std::allocator<char> >@GLIBCXX_3.4'\n",
      "/opt/anaconda3/envs/py3_9/compiler_compat/ld: /usr/local/cuda/lib64/libcufile.so: undefined reference to `std::string::assign(char const*)@GLIBCXX_3.4'\n",
      "/opt/anaconda3/envs/py3_9/compiler_compat/ld: /usr/local/cuda/lib64/libcufile.so: undefined reference to `std::basic_string<char, std::char_traits<char>, std::allocator<char> >::basic_string(unsigned long, char, std::allocator<char> const&)@GLIBCXX_3.4'\n",
      "/opt/anaconda3/envs/py3_9/compiler_compat/ld: /usr/local/cuda/lib64/libcufile.so: undefined reference to `std::__detail::_List_node_base::_M_transfer(std::__detail::_List_node_base*, std::__detail::_List_node_base*)@GLIBCXX_3.4.15'\n",
      "/opt/anaconda3/envs/py3_9/compiler_compat/ld: /usr/local/cuda/lib64/libcufile.so: undefined reference to `typeinfo for std::exception@GLIBCXX_3.4'\n",
      "/opt/anaconda3/envs/py3_9/compiler_compat/ld: /usr/local/cuda/lib64/libcufile.so: undefined reference to `std::istream& std::istream::_M_extract<double>(double&)@GLIBCXX_3.4.9'\n",
      "/opt/anaconda3/envs/py3_9/compiler_compat/ld: /usr/local/cuda/lib64/libcufile.so: undefined reference to `std::basic_filebuf<char, std::char_traits<char> >::close()@GLIBCXX_3.4'\n",
      "/opt/anaconda3/envs/py3_9/compiler_compat/ld: /usr/local/cuda/lib64/libcufile.so: undefined reference to `vtable for std::basic_fstream<char, std::char_traits<char> >@GLIBCXX_3.4'\n",
      "/opt/anaconda3/envs/py3_9/compiler_compat/ld: /usr/local/cuda/lib64/libcufile.so: undefined reference to `std::basic_ifstream<char, std::char_traits<char> >::basic_ifstream(char const*, std::_Ios_Openmode)@GLIBCXX_3.4'\n",
      "/opt/anaconda3/envs/py3_9/compiler_compat/ld: /usr/local/cuda/lib64/libcufile.so: undefined reference to `std::string::append(std::string const&)@GLIBCXX_3.4'\n",
      "/opt/anaconda3/envs/py3_9/compiler_compat/ld: /usr/local/cuda/lib64/libcufile.so: undefined reference to `operator new(unsigned long)@GLIBCXX_3.4'\n",
      "/opt/anaconda3/envs/py3_9/compiler_compat/ld: /usr/local/cuda/lib64/libcufile.so: undefined reference to `std::basic_stringstream<char, std::char_traits<char>, std::allocator<char> >::basic_stringstream(std::_Ios_Openmode)@GLIBCXX_3.4'\n",
      "/opt/anaconda3/envs/py3_9/compiler_compat/ld: /usr/local/cuda/lib64/libcufile.so: undefined reference to `typeinfo for unsigned int@CXXABI_1.3'\n",
      "/opt/anaconda3/envs/py3_9/compiler_compat/ld: /usr/local/cuda/lib64/libcufile.so: undefined reference to `std::string::append(char const*)@GLIBCXX_3.4'\n",
      "/opt/anaconda3/envs/py3_9/compiler_compat/ld: /usr/local/cuda/lib64/libcufile.so: undefined reference to `std::string::find(char, unsigned long) const@GLIBCXX_3.4'\n",
      "/opt/anaconda3/envs/py3_9/compiler_compat/ld: /usr/local/cuda/lib64/libcufile.so: undefined reference to `std::ostream::put(char)@GLIBCXX_3.4'\n",
      "/opt/anaconda3/envs/py3_9/compiler_compat/ld: /usr/local/cuda/lib64/libcufile.so: undefined reference to `typeinfo for int@CXXABI_1.3'\n",
      "/opt/anaconda3/envs/py3_9/compiler_compat/ld: /usr/local/cuda/lib64/libcufile.so: undefined reference to `std::__throw_bad_alloc()@GLIBCXX_3.4'\n",
      "/opt/anaconda3/envs/py3_9/compiler_compat/ld: /usr/local/cuda/lib64/libcufile.so: undefined reference to `__cxa_thread_atexit@CXXABI_1.3.7'\n",
      "/opt/anaconda3/envs/py3_9/compiler_compat/ld: /usr/local/cuda/lib64/libcufile.so: undefined reference to `std::_Rb_tree_increment(std::_Rb_tree_node_base*)@GLIBCXX_3.4'\n",
      "/opt/anaconda3/envs/py3_9/compiler_compat/ld: /usr/local/cuda/lib64/libcufile.so: undefined reference to `std::basic_ifstream<char, std::char_traits<char> >::~basic_ifstream()@GLIBCXX_3.4'\n",
      "/opt/anaconda3/envs/py3_9/compiler_compat/ld: /usr/local/cuda/lib64/libcufile.so: undefined reference to `std::ios_base::Init::Init()@GLIBCXX_3.4'\n",
      "/opt/anaconda3/envs/py3_9/compiler_compat/ld: /usr/local/cuda/lib64/libcufile.so: undefined reference to `std::__detail::_List_node_base::swap(std::__detail::_List_node_base&, std::__detail::_List_node_base&)@GLIBCXX_3.4.15'\n",
      "/opt/anaconda3/envs/py3_9/compiler_compat/ld: /usr/local/cuda/lib64/libcufile.so: undefined reference to `std::istream::getline(char*, long)@GLIBCXX_3.4'\n",
      "/opt/anaconda3/envs/py3_9/compiler_compat/ld: /usr/local/cuda/lib64/libcufile.so: undefined reference to `std::basic_filebuf<char, std::char_traits<char> >::basic_filebuf()@GLIBCXX_3.4'\n",
      "/opt/anaconda3/envs/py3_9/compiler_compat/ld: /usr/local/cuda/lib64/libcufile.so: undefined reference to `VTT for std::basic_istringstream<char, std::char_traits<char>, std::allocator<char> >@GLIBCXX_3.4'\n",
      "/opt/anaconda3/envs/py3_9/compiler_compat/ld: /usr/local/cuda/lib64/libcufile.so: undefined reference to `std::cerr@GLIBCXX_3.4'\n",
      "/opt/anaconda3/envs/py3_9/compiler_compat/ld: /usr/local/cuda/lib64/libcufile.so: undefined reference to `std::string::find(char const*, unsigned long, unsigned long) const@GLIBCXX_3.4'\n",
      "/opt/anaconda3/envs/py3_9/compiler_compat/ld: /usr/local/cuda/lib64/libcufile.so: undefined reference to `vtable for std::basic_istringstream<char, std::char_traits<char>, std::allocator<char> >@GLIBCXX_3.4'\n",
      "/opt/anaconda3/envs/py3_9/compiler_compat/ld: /usr/local/cuda/lib64/libcufile.so: undefined reference to `std::basic_stringbuf<char, std::char_traits<char>, std::allocator<char> >::str() const@GLIBCXX_3.4'\n",
      "/opt/anaconda3/envs/py3_9/compiler_compat/ld: /usr/local/cuda/lib64/libcufile.so: undefined reference to `typeinfo for void*@CXXABI_1.3'\n",
      "/opt/anaconda3/envs/py3_9/compiler_compat/ld: /usr/local/cuda/lib64/libcufile.so: undefined reference to `std::string::assign(std::string const&)@GLIBCXX_3.4'\n",
      "/opt/anaconda3/envs/py3_9/compiler_compat/ld: /usr/local/cuda/lib64/libcufile.so: undefined reference to `std::basic_string<char, std::char_traits<char>, std::allocator<char> >::basic_string(char const*, std::allocator<char> const&)@GLIBCXX_3.4'\n",
      "/opt/anaconda3/envs/py3_9/compiler_compat/ld: /usr/local/cuda/lib64/libcufile.so: undefined reference to `std::basic_ostringstream<char, std::char_traits<char>, std::allocator<char> >::~basic_ostringstream()@GLIBCXX_3.4'\n",
      "/opt/anaconda3/envs/py3_9/compiler_compat/ld: /usr/local/cuda/lib64/libcufile.so: undefined reference to `std::_Rb_tree_rebalance_for_erase(std::_Rb_tree_node_base*, std::_Rb_tree_node_base&)@GLIBCXX_3.4'\n",
      "/opt/anaconda3/envs/py3_9/compiler_compat/ld: /usr/local/cuda/lib64/libcufile.so: undefined reference to `typeinfo for unsigned long@CXXABI_1.3'\n",
      "/opt/anaconda3/envs/py3_9/compiler_compat/ld: /usr/local/cuda/lib64/libcufile.so: undefined reference to `std::__detail::_List_node_base::_M_hook(std::__detail::_List_node_base*)@GLIBCXX_3.4.15'\n",
      "/opt/anaconda3/envs/py3_9/compiler_compat/ld: /usr/local/cuda/lib64/libcufile.so: undefined reference to `std::__detail::_List_node_base::_M_unhook()@GLIBCXX_3.4.15'\n",
      "/opt/anaconda3/envs/py3_9/compiler_compat/ld: /usr/local/cuda/lib64/libcufile.so: undefined reference to `std::basic_istream<char, std::char_traits<char> >& std::getline<char, std::char_traits<char>, std::allocator<char> >(std::basic_istream<char, std::char_traits<char> >&, std::basic_string<char, std::char_traits<char>, std::allocator<char> >&)@GLIBCXX_3.4'\n",
      "/opt/anaconda3/envs/py3_9/compiler_compat/ld: /usr/local/cuda/lib64/libcufile.so: undefined reference to `std::basic_stringbuf<char, std::char_traits<char>, std::allocator<char> >::_M_sync(char*, unsigned long, unsigned long)@GLIBCXX_3.4'\n",
      "/opt/anaconda3/envs/py3_9/compiler_compat/ld: /usr/local/cuda/lib64/libcufile.so: undefined reference to `std::basic_iostream<char, std::char_traits<char> >::~basic_iostream()@GLIBCXX_3.4'\n",
      "/opt/anaconda3/envs/py3_9/compiler_compat/ld: /usr/local/cuda/lib64/libcufile.so: undefined reference to `log2f@GLIBC_2.2.5'\n",
      "/opt/anaconda3/envs/py3_9/compiler_compat/ld: /usr/local/cuda/lib64/libcufile.so: undefined reference to `std::ostream::operator<<(std::basic_streambuf<char, std::char_traits<char> >*)@GLIBCXX_3.4'\n",
      "/opt/anaconda3/envs/py3_9/compiler_compat/ld: /usr/local/cuda/lib64/libcufile.so: undefined reference to `std::exception::~exception()@GLIBCXX_3.4'\n",
      "/opt/anaconda3/envs/py3_9/compiler_compat/ld: /usr/local/cuda/lib64/libcufile.so: undefined reference to `std::string::_Rep::_S_create(unsigned long, unsigned long, std::allocator<char> const&)@GLIBCXX_3.4'\n",
      "/opt/anaconda3/envs/py3_9/compiler_compat/ld: /usr/local/cuda/lib64/libcufile.so: undefined reference to `std::__basic_file<char>::is_open() const@GLIBCXX_3.4'\n",
      "/opt/anaconda3/envs/py3_9/compiler_compat/ld: /usr/local/cuda/lib64/libcufile.so: undefined reference to `std::string::_M_mutate(unsigned long, unsigned long, unsigned long)@GLIBCXX_3.4'\n",
      "/opt/anaconda3/envs/py3_9/compiler_compat/ld: /usr/local/cuda/lib64/libcufile.so: undefined reference to `dlerror'\n",
      "/opt/anaconda3/envs/py3_9/compiler_compat/ld: /usr/local/cuda/lib64/libcufile.so: undefined reference to `std::__detail::_Prime_rehash_policy::_M_next_bkt(unsigned long) const@GLIBCXX_3.4.18'\n",
      "/opt/anaconda3/envs/py3_9/compiler_compat/ld: /usr/local/cuda/lib64/libcufile.so: undefined reference to `std::basic_istringstream<char, std::char_traits<char>, std::allocator<char> >::~basic_istringstream()@GLIBCXX_3.4'\n",
      "/opt/anaconda3/envs/py3_9/compiler_compat/ld: /usr/local/cuda/lib64/libcufile.so: undefined reference to `std::basic_ostringstream<char, std::char_traits<char>, std::allocator<char> >::basic_ostringstream(std::_Ios_Openmode)@GLIBCXX_3.4'\n",
      "/opt/anaconda3/envs/py3_9/compiler_compat/ld: /usr/local/cuda/lib64/libcufile.so: undefined reference to `std::string::swap(std::string&)@GLIBCXX_3.4'\n",
      "/opt/anaconda3/envs/py3_9/compiler_compat/ld: /usr/local/cuda/lib64/libcufile.so: undefined reference to `vtable for std::basic_ostringstream<char, std::char_traits<char>, std::allocator<char> >@GLIBCXX_3.4'\n",
      "/opt/anaconda3/envs/py3_9/compiler_compat/ld: /usr/local/cuda/lib64/libcufile.so: undefined reference to `std::basic_ios<char, std::char_traits<char> >::init(std::basic_streambuf<char, std::char_traits<char> >*)@GLIBCXX_3.4'\n",
      "/opt/anaconda3/envs/py3_9/compiler_compat/ld: /usr/local/cuda/lib64/libcufile.so: undefined reference to `dlsym'\n",
      "/opt/anaconda3/envs/py3_9/compiler_compat/ld: /usr/local/cuda/lib64/libcufile.so: undefined reference to `std::__throw_bad_cast()@GLIBCXX_3.4'\n",
      "/opt/anaconda3/envs/py3_9/compiler_compat/ld: /usr/local/cuda/lib64/libcufile.so: undefined reference to `std::basic_ios<char, std::char_traits<char> >::clear(std::_Ios_Iostate)@GLIBCXX_3.4'\n",
      "/opt/anaconda3/envs/py3_9/compiler_compat/ld: /usr/local/cuda/lib64/libcufile.so: undefined reference to `operator delete(void*)@GLIBCXX_3.4'\n",
      "/opt/anaconda3/envs/py3_9/compiler_compat/ld: /usr/local/cuda/lib64/libcufile.so: undefined reference to `std::ostream::operator<<(int)@GLIBCXX_3.4'\n",
      "/opt/anaconda3/envs/py3_9/compiler_compat/ld: /usr/local/cuda/lib64/libcufile.so: undefined reference to `std::string::_Rep::_S_empty_rep_storage@GLIBCXX_3.4'\n",
      "/opt/anaconda3/envs/py3_9/compiler_compat/ld: /usr/local/cuda/lib64/libcufile.so: undefined reference to `std::string::_Rep::_M_destroy(std::allocator<char> const&)@GLIBCXX_3.4'\n",
      "/opt/anaconda3/envs/py3_9/compiler_compat/ld: /usr/local/cuda/lib64/libcufile.so: undefined reference to `vtable for std::basic_ofstream<char, std::char_traits<char> >@GLIBCXX_3.4'\n",
      "/opt/anaconda3/envs/py3_9/compiler_compat/ld: /usr/local/cuda/lib64/libcufile.so: undefined reference to `std::_Rb_tree_insert_and_rebalance(bool, std::_Rb_tree_node_base*, std::_Rb_tree_node_base*, std::_Rb_tree_node_base&)@GLIBCXX_3.4'\n",
      "/opt/anaconda3/envs/py3_9/compiler_compat/ld: /usr/local/cuda/lib64/libcufile.so: undefined reference to `std::basic_stringstream<char, std::char_traits<char>, std::allocator<char> >::~basic_stringstream()@GLIBCXX_3.4'\n",
      "/opt/anaconda3/envs/py3_9/compiler_compat/ld: /usr/local/cuda/lib64/libcufile.so: undefined reference to `std::string::end()@GLIBCXX_3.4'\n",
      "/opt/anaconda3/envs/py3_9/compiler_compat/ld: /usr/local/cuda/lib64/libcufile.so: undefined reference to `std::ostream& std::ostream::_M_insert<long>(long)@GLIBCXX_3.4.9'\n",
      "/opt/anaconda3/envs/py3_9/compiler_compat/ld: /usr/local/cuda/lib64/libcufile.so: undefined reference to `std::istream::get()@GLIBCXX_3.4'\n",
      "/opt/anaconda3/envs/py3_9/compiler_compat/ld: /usr/local/cuda/lib64/libcufile.so: undefined reference to `typeinfo for unsigned long long@CXXABI_1.3'\n",
      "/opt/anaconda3/envs/py3_9/compiler_compat/ld: /usr/local/cuda/lib64/libcufile.so: undefined reference to `std::basic_ostream<char, std::char_traits<char> >& std::operator<< <std::char_traits<char> >(std::basic_ostream<char, std::char_traits<char> >&, char const*)@GLIBCXX_3.4'\n",
      "/opt/anaconda3/envs/py3_9/compiler_compat/ld: /usr/local/cuda/lib64/libcufile.so: undefined reference to `std::basic_ostream<char, std::char_traits<char> >& std::__ostream_insert<char, std::char_traits<char> >(std::basic_ostream<char, std::char_traits<char> >&, char const*, long)@GLIBCXX_3.4.9'\n",
      "/opt/anaconda3/envs/py3_9/compiler_compat/ld: /usr/local/cuda/lib64/libcufile.so: undefined reference to `std::basic_ostream<char, std::char_traits<char> >& std::flush<char, std::char_traits<char> >(std::basic_ostream<char, std::char_traits<char> >&)@GLIBCXX_3.4'\n",
      "/opt/anaconda3/envs/py3_9/compiler_compat/ld: /usr/local/cuda/lib64/libcufile.so: undefined reference to `std::cout@GLIBCXX_3.4'\n",
      "/opt/anaconda3/envs/py3_9/compiler_compat/ld: /usr/local/cuda/lib64/libcufile.so: undefined reference to `std::ostream& std::ostream::_M_insert<unsigned long long>(unsigned long long)@GLIBCXX_3.4.9'\n",
      "/opt/anaconda3/envs/py3_9/compiler_compat/ld: /usr/local/cuda/lib64/libcufile.so: undefined reference to `std::string::insert(unsigned long, char const*)@GLIBCXX_3.4'\n",
      "/opt/anaconda3/envs/py3_9/compiler_compat/ld: /usr/local/cuda/lib64/libcufile.so: undefined reference to `std::basic_stringstream<char, std::char_traits<char>, std::allocator<char> >::basic_stringstream(std::string const&, std::_Ios_Openmode)@GLIBCXX_3.4'\n",
      "/opt/anaconda3/envs/py3_9/compiler_compat/ld: /usr/local/cuda/lib64/libcufile.so: undefined reference to `std::runtime_error::runtime_error(std::string const&)@GLIBCXX_3.4'\n",
      "/opt/anaconda3/envs/py3_9/compiler_compat/ld: /usr/local/cuda/lib64/libcufile.so: undefined reference to `std::ostream& std::ostream::_M_insert<void const*>(void const*)@GLIBCXX_3.4.9'\n",
      "/opt/anaconda3/envs/py3_9/compiler_compat/ld: /usr/local/cuda/lib64/libcufile.so: undefined reference to `vtable for std::basic_streambuf<char, std::char_traits<char> >@GLIBCXX_3.4'\n",
      "/opt/anaconda3/envs/py3_9/compiler_compat/ld: /usr/local/cuda/lib64/libcufile.so: undefined reference to `__cxa_allocate_exception@CXXABI_1.3'\n",
      "/opt/anaconda3/envs/py3_9/compiler_compat/ld: /usr/local/cuda/lib64/libcufile.so: undefined reference to `typeinfo for void const*@CXXABI_1.3'\n",
      "/opt/anaconda3/envs/py3_9/compiler_compat/ld: /usr/local/cuda/lib64/libcufile.so: undefined reference to `std::string::reserve(unsigned long)@GLIBCXX_3.4'\n",
      "/opt/anaconda3/envs/py3_9/compiler_compat/ld: /usr/local/cuda/lib64/libcufile.so: undefined reference to `__cxa_begin_catch@CXXABI_1.3'\n",
      "/opt/anaconda3/envs/py3_9/compiler_compat/ld: /usr/local/cuda/lib64/libcufile.so: undefined reference to `typeinfo for long@CXXABI_1.3'\n",
      "/opt/anaconda3/envs/py3_9/compiler_compat/ld: /usr/local/cuda/lib64/libcufile.so: undefined reference to `std::string::find(char const*, unsigned long) const@GLIBCXX_3.4'\n",
      "/opt/anaconda3/envs/py3_9/compiler_compat/ld: /usr/local/cuda/lib64/libcufile.so: undefined reference to `std::basic_filebuf<char, std::char_traits<char> >::open(char const*, std::_Ios_Openmode)@GLIBCXX_3.4'\n",
      "/opt/anaconda3/envs/py3_9/compiler_compat/ld: /usr/local/cuda/lib64/libcufile.so: undefined reference to `std::string::compare(std::string const&) const@GLIBCXX_3.4'\n",
      "/opt/anaconda3/envs/py3_9/compiler_compat/ld: /usr/local/cuda/lib64/libcufile.so: undefined reference to `std::istream::getline(char*, long, char)@GLIBCXX_3.4'\n",
      "/opt/anaconda3/envs/py3_9/compiler_compat/ld: /usr/local/cuda/lib64/libcufile.so: undefined reference to `std::basic_istream<char, std::char_traits<char> >& std::getline<char, std::char_traits<char>, std::allocator<char> >(std::basic_istream<char, std::char_traits<char> >&, std::basic_string<char, std::char_traits<char>, std::allocator<char> >&, char)@GLIBCXX_3.4'\n",
      "/opt/anaconda3/envs/py3_9/compiler_compat/ld: /usr/local/cuda/lib64/libcufile.so: undefined reference to `std::string::insert(unsigned long, char const*, unsigned long)@GLIBCXX_3.4'\n",
      "/opt/anaconda3/envs/py3_9/compiler_compat/ld: /usr/local/cuda/lib64/libcufile.so: undefined reference to `std::string::assign(char const*, unsigned long)@GLIBCXX_3.4'\n",
      "/opt/anaconda3/envs/py3_9/compiler_compat/ld: /usr/local/cuda/lib64/libcufile.so: undefined reference to `typeinfo for unsigned char@CXXABI_1.3'\n",
      "/opt/anaconda3/envs/py3_9/compiler_compat/ld: /usr/local/cuda/lib64/libcufile.so: undefined reference to `std::ios_base::ios_base()@GLIBCXX_3.4'\n",
      "/opt/anaconda3/envs/py3_9/compiler_compat/ld: /usr/local/cuda/lib64/libcufile.so: undefined reference to `std::__throw_out_of_range(char const*)@GLIBCXX_3.4'\n",
      "/opt/anaconda3/envs/py3_9/compiler_compat/ld: /usr/local/cuda/lib64/libcufile.so: undefined reference to `std::__throw_length_error(char const*)@GLIBCXX_3.4'\n",
      "/opt/anaconda3/envs/py3_9/compiler_compat/ld: /usr/local/cuda/lib64/libcufile.so: undefined reference to `std::__throw_system_error(int)@GLIBCXX_3.4.11'\n",
      "/opt/anaconda3/envs/py3_9/compiler_compat/ld: /usr/local/cuda/lib64/libcufile.so: undefined reference to `std::ostream& std::ostream::_M_insert<double>(double)@GLIBCXX_3.4.9'\n",
      "/opt/anaconda3/envs/py3_9/compiler_compat/ld: /usr/local/cuda/lib64/libcufile.so: undefined reference to `typeinfo for long long@CXXABI_1.3'\n",
      "/opt/anaconda3/envs/py3_9/compiler_compat/ld: /usr/local/cuda/lib64/libcufile.so: undefined reference to `std::basic_string<char, std::char_traits<char>, std::allocator<char> >::basic_string(char const*, unsigned long, std::allocator<char> const&)@GLIBCXX_3.4'\n",
      "/opt/anaconda3/envs/py3_9/compiler_compat/ld: /usr/local/cuda/lib64/libcufile.so: undefined reference to `std::basic_ifstream<char, std::char_traits<char> >::close()@GLIBCXX_3.4'\n",
      "/opt/anaconda3/envs/py3_9/compiler_compat/ld: /usr/local/cuda/lib64/libcufile.so: undefined reference to `__cxa_guard_release@CXXABI_1.3'\n",
      "/opt/anaconda3/envs/py3_9/compiler_compat/ld: /usr/local/cuda/lib64/libcufile.so: undefined reference to `__cxa_throw@CXXABI_1.3'\n",
      "/opt/anaconda3/envs/py3_9/compiler_compat/ld: /usr/local/cuda/lib64/libcufile.so: undefined reference to `std::_Rb_tree_decrement(std::_Rb_tree_node_base*)@GLIBCXX_3.4'\n",
      "/opt/anaconda3/envs/py3_9/compiler_compat/ld: /usr/local/cuda/lib64/libcufile.so: undefined reference to `std::basic_filebuf<char, std::char_traits<char> >::~basic_filebuf()@GLIBCXX_3.4'\n",
      "collect2: error: ld returned 1 exit status\n"
     ]
    }
   ],
   "source": [
    "import sys \n",
    "sys.path.append('/data3/KJE/code/WIL_DeepLearningProject_2/VLM_Hallu')\n",
    "import argparse\n",
    "import os\n",
    "import random\n",
    "from typing import List, Union, Optional, Dict, Tuple\n",
    "import gc\n",
    "\n",
    "import numpy as np\n",
    "import pandas as pd\n",
    "\n",
    "import torch\n",
    "from sklearn.linear_model import SGDClassifier\n",
    "from sklearn.metrics import accuracy_score, roc_auc_score, precision_score, recall_score\n",
    "\n",
    "import wandb\n",
    "\n",
    "from transformers import AutoProcessor, LlavaForConditionalGeneration, set_seed  # noqa: F401\n",
    "import src.probing_utils as utils"
   ]
  },
  {
   "cell_type": "code",
   "execution_count": 2,
   "id": "e48d9671",
   "metadata": {},
   "outputs": [],
   "source": [
    "df = pd.read_csv('/data3/KJE/code/WIL_DeepLearningProject_2/VLM_Hallu/data/preprocess/aokvqa_pope_adversarial.csv')\n",
    "required_cols = {\"image_path\", \"question\", \"label\"}\n",
    "missing = required_cols - set(df.columns)\n",
    "if missing:\n",
    "    raise ValueError(f\"Missing required column(s) in CSV: {missing}\")\n",
    "\n",
    "train_df = pd.read_csv('/data3/KJE/code/WIL_DeepLearningProject_2/VLM_Hallu/data/preprocess/llava-1.5-7b-hf-vizwiz_train-llava_answers.csv')\n",
    "\n",
    "\n",
    "train_idx = list(range(len(train_df)))\n",
    "valid_idx = list(range(len(df)))"
   ]
  },
  {
   "cell_type": "code",
   "execution_count": 3,
   "id": "33f166df",
   "metadata": {},
   "outputs": [],
   "source": [
    "tokens_to_probe: List[str] = ['image_token', 'first_text_token', 'last_text_token',\n",
    "                            -8, -7, -6, -5, -4, -3, -2, -1]"
   ]
  },
  {
   "cell_type": "code",
   "execution_count": 4,
   "id": "e6dd352e",
   "metadata": {},
   "outputs": [],
   "source": [
    "def parse_subset_layers(arg_val: Optional[str], num_layers: int) -> List[int]:\n",
    "    if not arg_val:\n",
    "        return list(range(num_layers))\n",
    "    raw = [s.strip() for s in arg_val.split(\",\") if s.strip() != \"\"]\n",
    "    idxs: List[int] = []\n",
    "    for s in raw:\n",
    "        i = int(s)\n",
    "        if i < 0:\n",
    "            i = num_layers + i  # negative index from end\n",
    "        if not (0 <= i < num_layers):\n",
    "            raise ValueError(f\"subset_layers index out of range after normalization: {i} (num_layers={num_layers})\")\n",
    "        idxs.append(i)\n",
    "    # keep order but uniquify\n",
    "    seen = set()\n",
    "    ordered = []\n",
    "    for i in idxs:\n",
    "        if i not in seen:\n",
    "            ordered.append(i)\n",
    "            seen.add(i)\n",
    "    return ordered"
   ]
  },
  {
   "cell_type": "code",
   "execution_count": 5,
   "id": "fae9cfd6",
   "metadata": {},
   "outputs": [
    {
     "name": "stderr",
     "output_type": "stream",
     "text": [
      "Using a slow image processor as `use_fast` is unset and a slow processor was saved with this model. `use_fast=True` will be the default behavior in v4.52, even if the model was saved with a slow processor. This will result in minor differences in outputs. You'll still be able to use a slow processor with `use_fast=False`.\n"
     ]
    },
    {
     "data": {
      "application/vnd.jupyter.widget-view+json": {
       "model_id": "3f2e0b64f0ae4bc0a1d52a5de4144ebb",
       "version_major": 2,
       "version_minor": 0
      },
      "text/plain": [
       "Loading checkpoint shards:   0%|          | 0/3 [00:00<?, ?it/s]"
      ]
     },
     "metadata": {},
     "output_type": "display_data"
    }
   ],
   "source": [
    "model, processor, tokenizer = utils.load_llava('llava-hf/llava-1.5-7b-hf')\n",
    "num_layers = utils.get_num_layers_from_config(model)\n",
    "subset_layers = parse_subset_layers(None, num_layers)"
   ]
  },
  {
   "cell_type": "code",
   "execution_count": 20,
   "id": "2b3edb43",
   "metadata": {},
   "outputs": [],
   "source": [
    "probes: Dict[Tuple[str, int], SGDClassifier] = {}\n",
    "initialized: Dict[Tuple[str, int], bool] = {}"
   ]
  },
  {
   "cell_type": "code",
   "execution_count": 7,
   "id": "2862e92b",
   "metadata": {},
   "outputs": [],
   "source": [
    "def get_num_layers_from_config(model) -> int:\n",
    "    cfg = getattr(model, \"config\", None)\n",
    "    if hasattr(cfg, \"text_config\") and hasattr(cfg.text_config, \"num_hidden_layers\"):\n",
    "        return int(cfg.text_config.num_hidden_layers)\n",
    "    if hasattr(cfg, \"num_hidden_layers\"):\n",
    "        return int(cfg.num_hidden_layers)\n",
    "    raise ValueError(\"Cannot find num_hidden_layers in config.\")\n",
    "\n",
    "def get_image_token_id(model) -> Optional[int]:\n",
    "    return getattr(getattr(model, \"config\", None), \"image_token_index\", None)\n",
    "\n",
    "def tokkey(t):\n",
    "    return str(t) if isinstance(t, int) else t"
   ]
  },
  {
   "cell_type": "code",
   "execution_count": 8,
   "id": "c58ab789",
   "metadata": {},
   "outputs": [],
   "source": [
    "#collect_features_for_split \n",
    "device = next(model.parameters()).device\n",
    "dtype = next(model.parameters()).dtype\n",
    "num_layers = get_num_layers_from_config(model)\n",
    "image_token_id = get_image_token_id(model)\n",
    "\n",
    "neg_ks = sorted([k for k in tokens_to_probe if isinstance(k, int)])\n",
    "\n",
    "token_keys = [tokkey(t) for t in tokens_to_probe]\n",
    "features: Dict[str, Dict[int, List[np.ndarray]]] = {k: {l: [] for l in range(num_layers)} for k in token_keys}\n",
    "labels: Dict[str, List[int]] = {k: [] for k in token_keys}"
   ]
  },
  {
   "cell_type": "code",
   "execution_count": 9,
   "id": "1dc85473",
   "metadata": {},
   "outputs": [],
   "source": [
    "image_root = '/data3/KJE/code/WIL_DeepLearningProject_2/VLM_Hallu/data/COCO/images/val2014'\n",
    "def _img_path(p):\n",
    "    if image_root is None:\n",
    "        return p\n",
    "    return os.path.join(image_root, p)"
   ]
  },
  {
   "cell_type": "code",
   "execution_count": 10,
   "id": "8ec64650",
   "metadata": {},
   "outputs": [],
   "source": [
    "def build_prompt(tokenizer, question: str) -> str:\n",
    "    # 메시지 안에 이미지 + 텍스트 구성\n",
    "    content = [{\"type\": \"image\"}, {\"type\": \"text\", \"text\": question}]\n",
    "    if hasattr(tokenizer, \"apply_chat_template\"):\n",
    "        messages = [{\"role\": \"user\", \"content\": content}]\n",
    "        try:\n",
    "            prompt = tokenizer.apply_chat_template(\n",
    "                messages,\n",
    "                add_generation_prompt=True,\n",
    "                tokenize=False\n",
    "            )\n",
    "            return prompt\n",
    "        except Exception:\n",
    "            pass\n",
    "    # fallback: 단순 프롬프트\n",
    "    return \"<image>\\n\" + question.strip() + \"\\n\""
   ]
  },
  {
   "cell_type": "code",
   "execution_count": 11,
   "id": "adbc983c",
   "metadata": {},
   "outputs": [
    {
     "name": "stderr",
     "output_type": "stream",
     "text": [
      "  0%|          | 0/937 [00:00<?, ?it/s]"
     ]
    },
    {
     "name": "stderr",
     "output_type": "stream",
     "text": [
      "  0%|          | 0/937 [00:23<?, ?it/s]\n"
     ]
    }
   ],
   "source": [
    "from tqdm import tqdm\n",
    "from PIL import Image\n",
    "\n",
    "batch_size = 16 \n",
    "\n",
    "for start in tqdm(range(0, len(train_idx), batch_size)):\n",
    "        batch_idx = train_idx[start : start + batch_size]\n",
    "        rows = df.iloc[batch_idx]\n",
    "\n",
    "        # load images & prompts\n",
    "        images = []\n",
    "        prompts = []\n",
    "        ys = []\n",
    "        for _, r in rows.iterrows():\n",
    "            img = Image.open(_img_path(r[\"image_path\"])).convert(\"RGB\")\n",
    "            images.append(img)\n",
    "            prompts.append(build_prompt(tokenizer, str(r[\"question\"]))\n",
    "                           if \"question\" in r else build_prompt(tokenizer, str(r[\"text\"])))\n",
    "            ys.append(int(r[\"label\"]))\n",
    "        # encode\n",
    "        batch = processor(\n",
    "            images=images,\n",
    "            text=prompts,\n",
    "            padding=True,\n",
    "            return_tensors=\"pt\"\n",
    "        )\n",
    "        input_ids = batch[\"input_ids\"].to(device)\n",
    "        attention_mask = batch[\"attention_mask\"].to(device)\n",
    "        pixel_values = batch[\"pixel_values\"].to(dtype=dtype, device=device)\n",
    "\n",
    "        out = model(\n",
    "            input_ids=input_ids,\n",
    "            attention_mask=attention_mask,\n",
    "            pixel_values=pixel_values,\n",
    "            output_hidden_states=True,\n",
    "            return_dict=True,\n",
    "            use_cache=False\n",
    "        )\n",
    "\n",
    "        output = model.generate(\n",
    "            input_ids=input_ids,\n",
    "            attention_mask=attention_mask,\n",
    "            pixel_values=pixel_values,\n",
    "            output_hidden_states=True,\n",
    "            return_dict_in_generate=True,\n",
    "            use_cache=False\n",
    "        )\n",
    "\n",
    "        break"
   ]
  },
  {
   "cell_type": "code",
   "execution_count": null,
   "id": "6702535e",
   "metadata": {},
   "outputs": [
    {
     "ename": "",
     "evalue": "",
     "output_type": "error",
     "traceback": [
      "\u001b[1;31mThe Kernel crashed while executing code in the current cell or a previous cell. \n",
      "\u001b[1;31mPlease review the code in the cell(s) to identify a possible cause of the failure. \n",
      "\u001b[1;31mClick <a href='https://aka.ms/vscodeJupyterKernelCrash'>here</a> for more info. \n",
      "\u001b[1;31mView Jupyter <a href='command:jupyter.viewOutput'>log</a> for further details."
     ]
    }
   ],
   "source": [
    "hs = torch.stack(output.hidden_states[-0][1:], dim=0)"
   ]
  },
  {
   "cell_type": "code",
   "execution_count": 13,
   "id": "09666a24",
   "metadata": {},
   "outputs": [],
   "source": [
    "def nonpad_indices(attn_mask: torch.Tensor) -> torch.Tensor:\n",
    "    # returns positions where attention_mask == 1\n",
    "    return torch.nonzero(attn_mask, as_tuple=False).squeeze(-1)\n",
    "\n",
    "def locate_positions_for_sample(\n",
    "    input_ids: torch.Tensor,\n",
    "    attention_mask: torch.Tensor,\n",
    "    image_token_id: Optional[int],\n",
    "    neg_ks: List[int],\n",
    ") -> Dict[str, Optional[int]]:\n",
    "    \n",
    "    pos = {}\n",
    "    idxs = nonpad_indices(attention_mask)\n",
    "    if idxs.numel() == 0:\n",
    "        # all pad? shouldn't happen\n",
    "        for k in neg_ks:\n",
    "            pos[str(k)] = None\n",
    "        pos[\"image_token\"] = None\n",
    "        pos[\"first_text_token\"] = None\n",
    "        pos[\"last_text_token\"] = None\n",
    "        return pos\n",
    "\n",
    "    # last/first non-pad\n",
    "    first_idx = int(idxs[0].item())\n",
    "    last_idx = int(idxs[-1].item())\n",
    "\n",
    "    # negative offsets from end\n",
    "    for k in neg_ks:  # e.g., -8..-1\n",
    "        kk = abs(k)\n",
    "        if kk <= idxs.numel():\n",
    "            pos[str(k)] = int(idxs[-kk].item())\n",
    "        else:\n",
    "            pos[str(k)] = None\n",
    "\n",
    "    # image token\n",
    "    if image_token_id is not None:\n",
    "        img_pos = torch.nonzero(input_ids == image_token_id, as_tuple=False)\n",
    "        if img_pos.numel() > 0:\n",
    "            img_first = int(img_pos[0].item())\n",
    "        else:\n",
    "            img_first = None\n",
    "    else:\n",
    "        img_first = None\n",
    "    pos[\"image_token\"] = img_first\n",
    "\n",
    "    if img_first is not None:\n",
    "        greater = idxs[idxs > img_first]\n",
    "        if greater.numel() > 0:\n",
    "            pos[\"first_text_token\"] = int(greater[0].item())\n",
    "        else:\n",
    "            pos[\"first_text_token\"] = None\n",
    "    else:\n",
    "        pos[\"first_text_token\"] = first_idx\n",
    "\n",
    "    # last_text_token\n",
    "    pos[\"last_text_token\"] = last_idx\n",
    "\n",
    "    return pos"
   ]
  },
  {
   "cell_type": "code",
   "execution_count": 62,
   "id": "2fb1ec71",
   "metadata": {},
   "outputs": [],
   "source": [
    "B = input_ids.size(0)\n",
    "for b in range(B):\n",
    "    yb = ys[b]\n",
    "    # import pdb;pdb.set_trace()\n",
    "    # pos_map = locate_positions_for_sample(\n",
    "    #     input_ids[b], attention_mask[b], image_token_id, neg_ks\n",
    "    # ) \n",
    "\n",
    "    pos_map = {}\n",
    "    idxs = nonpad_indices(attention_mask[b])\n",
    "    if idxs.numel() == 0:\n",
    "        # all pad? shouldn't happen\n",
    "        for k in neg_ks:\n",
    "            pos_map[str(k)] = None\n",
    "        pos_map[\"image_token\"] = None\n",
    "        pos_map[\"first_text_token\"] = None\n",
    "        pos_map[\"last_text_token\"] = None\n",
    "\n",
    "    # last/first non-pad\n",
    "    first_idx = int(idxs[0].item())\n",
    "    last_idx = int(idxs[-1].item())\n",
    "\n",
    "    # negative offsets from end\n",
    "    for k in neg_ks:  # e.g., -8..-1\n",
    "        kk = abs(k)\n",
    "        if kk <= idxs.numel():\n",
    "            pos_map[str(k)] = int(idxs[-kk].item())+20\n",
    "        else:\n",
    "            pos_map[str(k)] = None\n",
    "\n",
    "    # # image token\n",
    "    # if image_token_id is not None:\n",
    "    #     img_pos = torch.nonzero(input_ids[b] == image_token_id, as_tuple=False)\n",
    "    #     if img_pos.numel() > 0:\n",
    "    #         img_first = int(img_pos[0].item())\n",
    "    #     else:\n",
    "    #         img_first = None\n",
    "    # else:\n",
    "    #     img_first = None\n",
    "    # pos_map[\"image_token\"] = img_first\n",
    "\n",
    "    # if img_first is not None:\n",
    "    #     greater = idxs[idxs > img_first]\n",
    "    #     if greater.numel() > 0:\n",
    "    #         pos_map[\"first_text_token\"] = int(greater[0].item())\n",
    "    #     else:\n",
    "    #         pos_map[\"first_text_token\"] = None\n",
    "    # else:\n",
    "    #     pos_map[\"first_text_token\"] = first_idx\n",
    "\n",
    "    # # last_text_token\n",
    "    # pos_map[\"last_text_token\"] = last_idx\n",
    "\n",
    "\n",
    "    # # build a per-token valid mask & per-token position\n",
    "    # for t in tokens_to_probe:\n",
    "    #     k = tokkey(t)                  \n",
    "    #     p = pos_map.get(k, None)         \n",
    "    #     if p is None:\n",
    "    #         continue  # skip this sample for this token\n",
    "    #     # append label once per sample (per token)\n",
    "    #     labels[k].append(yb)\n",
    "    #     # for each layer, slice feature\n",
    "    #     for l in range(num_layers):\n",
    "    #         vec = hs[l, b, p, :].detach().float().cpu().numpy()  # (H,)\n",
    "    #         features[k][l].append(vec)\n"
   ]
  },
  {
   "cell_type": "code",
   "execution_count": 63,
   "id": "5ce54b27",
   "metadata": {},
   "outputs": [
    {
     "data": {
      "text/plain": [
       "{'-8': 608,\n",
       " '-7': 609,\n",
       " '-6': 610,\n",
       " '-5': 611,\n",
       " '-4': 612,\n",
       " '-3': 613,\n",
       " '-2': 614,\n",
       " '-1': 615}"
      ]
     },
     "execution_count": 63,
     "metadata": {},
     "output_type": "execute_result"
    }
   ],
   "source": [
    "pos_map"
   ]
  },
  {
   "cell_type": "code",
   "execution_count": 16,
   "id": "a70afbb2",
   "metadata": {},
   "outputs": [
    {
     "data": {
      "text/plain": [
       "odict_keys(['logits', 'hidden_states', 'image_hidden_states'])"
      ]
     },
     "execution_count": 16,
     "metadata": {},
     "output_type": "execute_result"
    }
   ],
   "source": [
    "out.keys()"
   ]
  },
  {
   "cell_type": "code",
   "execution_count": 41,
   "id": "ec691324",
   "metadata": {},
   "outputs": [
    {
     "data": {
      "text/plain": [
       "odict_keys(['sequences', 'hidden_states'])"
      ]
     },
     "execution_count": 41,
     "metadata": {},
     "output_type": "execute_result"
    }
   ],
   "source": [
    "output.keys()"
   ]
  },
  {
   "cell_type": "code",
   "execution_count": 49,
   "id": "b18d6291",
   "metadata": {},
   "outputs": [
    {
     "data": {
      "text/plain": [
       "20"
      ]
     },
     "execution_count": 49,
     "metadata": {},
     "output_type": "execute_result"
    }
   ],
   "source": [
    "len(output.hidden_states)"
   ]
  },
  {
   "cell_type": "code",
   "execution_count": 43,
   "id": "9ffb462b",
   "metadata": {},
   "outputs": [
    {
     "data": {
      "text/plain": [
       "(616, torch.Size([16, 615, 4096]), torch.Size([16, 596, 4096]))"
      ]
     },
     "execution_count": 43,
     "metadata": {},
     "output_type": "execute_result"
    }
   ],
   "source": [
    "len(output['sequences'][0]), output.hidden_states[-1][0].shape , out.hidden_states[0].shape"
   ]
  },
  {
   "cell_type": "code",
   "execution_count": 61,
   "id": "fd3d0c40",
   "metadata": {},
   "outputs": [
    {
     "name": "stdout",
     "output_type": "stream",
     "text": [
      "torch.Size([16, 596, 4096])\n",
      "torch.Size([16, 596, 4096])\n",
      "torch.Size([16, 596, 4096])\n",
      "torch.Size([16, 596, 4096])\n",
      "torch.Size([16, 596, 4096])\n",
      "torch.Size([16, 596, 4096])\n",
      "torch.Size([16, 596, 4096])\n",
      "torch.Size([16, 596, 4096])\n",
      "torch.Size([16, 596, 4096])\n",
      "torch.Size([16, 596, 4096])\n",
      "torch.Size([16, 596, 4096])\n",
      "torch.Size([16, 596, 4096])\n",
      "torch.Size([16, 596, 4096])\n",
      "torch.Size([16, 596, 4096])\n",
      "torch.Size([16, 596, 4096])\n",
      "torch.Size([16, 596, 4096])\n",
      "torch.Size([16, 596, 4096])\n",
      "torch.Size([16, 596, 4096])\n",
      "torch.Size([16, 596, 4096])\n",
      "torch.Size([16, 596, 4096])\n"
     ]
    }
   ],
   "source": [
    "for i in range(0,20):\n",
    "    print(output.hidden_states[-0][0].shape) #0~32 layer 수 "
   ]
  },
  {
   "cell_type": "code",
   "execution_count": 26,
   "id": "26720092",
   "metadata": {},
   "outputs": [],
   "source": [
    "input_decode = processor.decode(input_ids[0])\n",
    "output_decode =processor.decode(output.sequences[0]) "
   ]
  },
  {
   "cell_type": "code",
   "execution_count": 27,
   "id": "eac2bd74",
   "metadata": {},
   "outputs": [
    {
     "data": {
      "text/plain": [
       "'<s> USER: <image><image><image><image><image><image><image><image><image><image><image><image><image><image><image><image><image><image><image><image><image><image><image><image><image><image><image><image><image><image><image><image><image><image><image><image><image><image><image><image><image><image><image><image><image><image><image><image><image><image><image><image><image><image><image><image><image><image><image><image><image><image><image><image><image><image><image><image><image><image><image><image><image><image><image><image><image><image><image><image><image><image><image><image><image><image><image><image><image><image><image><image><image><image><image><image><image><image><image><image><image><image><image><image><image><image><image><image><image><image><image><image><image><image><image><image><image><image><image><image><image><image><image><image><image><image><image><image><image><image><image><image><image><image><image><image><image><image><image><image><image><image><image><image><image><image><image><image><image><image><image><image><image><image><image><image><image><image><image><image><image><image><image><image><image><image><image><image><image><image><image><image><image><image><image><image><image><image><image><image><image><image><image><image><image><image><image><image><image><image><image><image><image><image><image><image><image><image><image><image><image><image><image><image><image><image><image><image><image><image><image><image><image><image><image><image><image><image><image><image><image><image><image><image><image><image><image><image><image><image><image><image><image><image><image><image><image><image><image><image><image><image><image><image><image><image><image><image><image><image><image><image><image><image><image><image><image><image><image><image><image><image><image><image><image><image><image><image><image><image><image><image><image><image><image><image><image><image><image><image><image><image><image><image><image><image><image><image><image><image><image><image><image><image><image><image><image><image><image><image><image><image><image><image><image><image><image><image><image><image><image><image><image><image><image><image><image><image><image><image><image><image><image><image><image><image><image><image><image><image><image><image><image><image><image><image><image><image><image><image><image><image><image><image><image><image><image><image><image><image><image><image><image><image><image><image><image><image><image><image><image><image><image><image><image><image><image><image><image><image><image><image><image><image><image><image><image><image><image><image><image><image><image><image><image><image><image><image><image><image><image><image><image><image><image><image><image><image><image><image><image><image><image><image><image><image><image><image><image><image><image><image><image><image><image><image><image><image><image><image><image><image><image><image><image><image><image><image><image><image><image><image><image><image><image><image><image><image><image><image><image><image><image><image><image><image><image><image><image><image><image><image><image><image><image><image><image><image><image><image><image><image><image><image><image><image><image><image><image><image><image><image><image><image><image><image><image><image><image><image><image><image><image><image><image><image><image><image><image><image><image><image><image><image><image><image><image><image><image><image><image><image><image><image><image><image><image><image><image><image><image><image><image><image><image><image><image><image><image><image><image><image><image><image><image><image><image><image><image><image><image><image><image><image><image><image><image><image><image><image><image><image><image><image><image><image><image><image><image><image><image><image><image><image><image><image><image><image><image><image><image><image><image><image><image><image><image><image><image><image><image><image><image><image><image><image> \\nIs there a building in the image? ASSISTANT: Yes, there is a building in the image, and the motorcycle is parked in front of'"
      ]
     },
     "execution_count": 27,
     "metadata": {},
     "output_type": "execute_result"
    }
   ],
   "source": [
    "output_decode"
   ]
  },
  {
   "cell_type": "code",
   "execution_count": null,
   "id": "66d27d68",
   "metadata": {},
   "outputs": [
    {
     "data": {
      "text/plain": [
       "{'-8': 588,\n",
       " '-7': 589,\n",
       " '-6': 590,\n",
       " '-5': 591,\n",
       " '-4': 592,\n",
       " '-3': 593,\n",
       " '-2': 594,\n",
       " '-1': 595,\n",
       " 'image_token': 5,\n",
       " 'first_text_token': 6,\n",
       " 'last_text_token': 595}"
      ]
     },
     "execution_count": 35,
     "metadata": {},
     "output_type": "execute_result"
    }
   ],
   "source": [
    "pos_map"
   ]
  }
 ],
 "metadata": {
  "kernelspec": {
   "display_name": "py3_9",
   "language": "python",
   "name": "python3"
  },
  "language_info": {
   "codemirror_mode": {
    "name": "ipython",
    "version": 3
   },
   "file_extension": ".py",
   "mimetype": "text/x-python",
   "name": "python",
   "nbconvert_exporter": "python",
   "pygments_lexer": "ipython3",
   "version": "3.9.19"
  }
 },
 "nbformat": 4,
 "nbformat_minor": 5
}
